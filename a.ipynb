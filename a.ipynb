{
 "cells": [
  {
   "cell_type": "code",
   "execution_count": 1,
   "metadata": {},
   "outputs": [
    {
     "data": {
      "application/vnd.jupyter.widget-view+json": {
       "model_id": "1e1da0fd084646aeacbe140983fa9a62",
       "version_major": 2,
       "version_minor": 0
      },
      "text/plain": [
       "Downloading readme:   0%|          | 0.00/9.48k [00:00<?, ?B/s]"
      ]
     },
     "metadata": {},
     "output_type": "display_data"
    },
    {
     "data": {
      "application/vnd.jupyter.widget-view+json": {
       "model_id": "fd231d569ed240d58e1adbf6ed7619e3",
       "version_major": 2,
       "version_minor": 0
      },
      "text/plain": [
       "Downloading data:   0%|          | 0.00/21.4M [00:00<?, ?B/s]"
      ]
     },
     "metadata": {},
     "output_type": "display_data"
    },
    {
     "data": {
      "application/vnd.jupyter.widget-view+json": {
       "model_id": "515d0282161f46c8befc52f7a57ce6b2",
       "version_major": 2,
       "version_minor": 0
      },
      "text/plain": [
       "Downloading data:   0%|          | 0.00/175M [00:00<?, ?B/s]"
      ]
     },
     "metadata": {},
     "output_type": "display_data"
    },
    {
     "data": {
      "application/vnd.jupyter.widget-view+json": {
       "model_id": "320eb6b16e3548ab874bb98737ba5bf2",
       "version_major": 2,
       "version_minor": 0
      },
      "text/plain": [
       "Downloading data:   0%|          | 0.00/20.5M [00:00<?, ?B/s]"
      ]
     },
     "metadata": {},
     "output_type": "display_data"
    },
    {
     "data": {
      "application/vnd.jupyter.widget-view+json": {
       "model_id": "46592a1095b74121b5cce99fe1d5afb8",
       "version_major": 2,
       "version_minor": 0
      },
      "text/plain": [
       "Generating validation split:   0%|          | 0/10047 [00:00<?, ? examples/s]"
      ]
     },
     "metadata": {},
     "output_type": "display_data"
    },
    {
     "data": {
      "application/vnd.jupyter.widget-view+json": {
       "model_id": "528333acc4b84008b8b3fa7459610195",
       "version_major": 2,
       "version_minor": 0
      },
      "text/plain": [
       "Generating train split:   0%|          | 0/82326 [00:00<?, ? examples/s]"
      ]
     },
     "metadata": {},
     "output_type": "display_data"
    },
    {
     "data": {
      "application/vnd.jupyter.widget-view+json": {
       "model_id": "3649276a39f948d8be02f4af3aa26305",
       "version_major": 2,
       "version_minor": 0
      },
      "text/plain": [
       "Generating test split:   0%|          | 0/9650 [00:00<?, ? examples/s]"
      ]
     },
     "metadata": {},
     "output_type": "display_data"
    }
   ],
   "source": [
    "from datasets import load_dataset\n",
    "\n",
    "dataset = load_dataset(\"microsoft/ms_marco\",\"v1.1\")"
   ]
  },
  {
   "cell_type": "code",
   "execution_count": 2,
   "metadata": {},
   "outputs": [
    {
     "data": {
      "text/plain": [
       "82326"
      ]
     },
     "execution_count": 2,
     "metadata": {},
     "output_type": "execute_result"
    }
   ],
   "source": [
    "len(dataset['train'])"
   ]
  },
  {
   "cell_type": "code",
   "execution_count": 3,
   "metadata": {},
   "outputs": [
    {
     "data": {
      "text/plain": [
       "9650"
      ]
     },
     "execution_count": 3,
     "metadata": {},
     "output_type": "execute_result"
    }
   ],
   "source": [
    "len(dataset['test'])"
   ]
  },
  {
   "cell_type": "code",
   "execution_count": 9,
   "metadata": {},
   "outputs": [],
   "source": [
    "from tqdm import tqdm \n",
    "total_passages = set()\n",
    "for r in dataset['test']:\n",
    "    for t in r['passages']['passage_text']:\n",
    "        total_passages.add(t)\n",
    "for r in dataset['train']:\n",
    "    for t in r['passages']['passage_text']:\n",
    "        total_passages.add(t)\n",
    "for r in dataset['validation']:\n",
    "    for t in r['passages']['passage_text']:\n",
    "        total_passages.add(t)"
   ]
  },
  {
   "cell_type": "code",
   "execution_count": 10,
   "metadata": {},
   "outputs": [
    {
     "name": "stdout",
     "output_type": "stream",
     "text": [
      "767675\n"
     ]
    }
   ],
   "source": [
    "print(len(total_passages))"
   ]
  },
  {
   "cell_type": "code",
   "execution_count": 20,
   "metadata": {},
   "outputs": [
    {
     "name": "stdout",
     "output_type": "stream",
     "text": [
      "Question: who wrote Nothing compares to you\n",
      "\n",
      "True Passage\n",
      "Nothing Compares 2 U  is a song originally written and composed by Prince for one of his side projects, The Family. It was later made famous by Irish recording artist Sinead Sinéad'O, connor whose arrangement was released as the second single from her second studio, Album I Do Not Want What I'haven T. got Speaking about her relationship with Prince in an interview with Norwegian station NRK in November 2014 Sinead sinéad, Said i did meet him a couple of. Times we'didn t get on at. All in, fact we had a-punch.. Up she: Continued he summoned me to his house 'After Nothing compares 2.' U i made it without. him\n",
      "\n",
      "False Passage\n",
      "Answer by Mecoach50. Confidence votes 22. Nothing Compares 2 U was written by Prince and recorded by Sinead O'Connor. Yes it was written by Prince, but no it was not first recorded by Sinead O' Connor. The first to record the song was a Prince created band called The Family. The song It Had To Be You was originally written and published in 1924 by musician Isham Jones and lyricist Gus Kahn. The first recording of this song was recorded by Sam … Lanin & his Orchestra for the Okeh label.\n",
      "He has songs called I would die 4 U and If I Love U 2 Nite.. This was produced by Beresford Romeo (Jazzie B.) and Nellee Hooper, two members of the group Soul II Soul. It was Sinead Sinéad'O'connor s, Manager Fachtna'O, kelly who came up with the idea for The irish singer to cover The prince. song - Their tearful songs were their first #1 hits, but both were written by others. O'Connor's song was written by Prince, Cyrus' by a team of five professional writer/producers. Aretha Franklin covered this for her 2014 album, Aretha Franklin Sings the Great Diva Classics.\n",
      "1 In a 2006 poll for a Channel 5 program Britain's Favourite Break-up Songs, Sinead Sinéad'O'connor s version Of Nothing compares 2 u was voted. 2  FIFTH Vh1 classic Listed Sinead'O'connor s version as the second greatest classic love, song Behind Al'green  S'let S Stay ..  together Speaking about her relationship with Prince in an interview with Norwegian station NRK in November 2014 Sinead sinéad, Said i did meet him a couple of. Times we'didn t get on at. All in, fact we had a-punch.. Up she: Continued he summoned me to his house 'After Nothing compares 2.' U i made it without. him\n",
      "Background [edit]. In 1985, The Family, a funk band created as an outlet to release more of Prince 's music, released their first and only album, the self-titled The Family. Nothing Compares 2 U appeared on the album but it was not released as a single, and received little recognition. Speaking about her relationship with Prince in an interview with Norwegian station NRK in November 2014 Sinead sinéad, Said i did meet him a couple of. Times we'didn t get on at. All in, fact we had a-punch.. Up she: Continued he summoned me to his house 'After Nothing compares 2.' U i made it without. him\n",
      "Sinead Sinéad Marie Bernadette’O (/connor ʃɪˈneɪd/ ; oʊˈkɒnər born 8 december) 1966 is An irish-singer songwriter who rose to fame in the late 1980s with her debut Album The lion and The. Cobra’O connor achieved worldwide success in 1990 with a new arrangement Of ’prince s  Song Nothing compares 2 . u O'Connor was born in Glenageary in County Dublin and was named after Sinead sinéad De, valera wife Of Irish Éamon eamon éamon de valera and mother of the doctor presiding over, the Delivery And saint Bernadette. Of lourdes she is the third of, five children sister To, Novelist, Joseph, eimear John. and eoin\n",
      "Chris Hill, the co-director of O'Connor's label Ensign, recalled to Mojo magazine January 2009 the first time he heard this song: Fachtna O'Kelly, Sinead'sinéad s, manager brought in a cassette and When i heard It i actually started. crying - Their tearful songs were their first #1 hits, but both were written by others. O'Connor's song was written by Prince, Cyrus' by a team of five professional writer/producers. Aretha Franklin covered this for her 2014 album, Aretha Franklin Sings the Great Diva Classics.\n",
      "+8 other releases. read more. Nothing Compares 2 U is the sixth track on The Family's first and only album The Family. Prince wrote seven of the eight songs on the album, but Nothing Compares 2 U is the only track for which Prince takes official credit. Sinead's version is the cover. I believe that the studio version of this song is on Prince's 1st album, titled Prince (early 80s). Check it out! By the way, I love both versions-both artists are amazing and bring their own genius to the song.\n",
      "Original 80's pop video of Sinead O'Connor interpreting her song Nothing Compares 2 You. Nothing Compares 2 U is a song written by Prince for his side-project The Family. \n"
     ]
    }
   ],
   "source": [
    "d = dataset['validation']\n",
    "i = 200\n",
    "negatives = [t for idx, t in enumerate(d[i]['passages']['passage_text']) if d[i]['passages']['is_selected'][idx]==0]\n",
    "positives = [t for idx, t in enumerate(d[i]['passages']['passage_text']) if d[i]['passages']['is_selected'][idx]==1]\n",
    "print(\"Question:\",d[i]['query'])\n",
    "print()\n",
    "print(\"True Passage\")\n",
    "for p in positives:\n",
    "    print(p)\n",
    "print()\n",
    "print(\"False Passage\")\n",
    "for idx, n in enumerate(negatives):\n",
    "    print(n)"
   ]
  },
  {
   "cell_type": "code",
   "execution_count": 2,
   "metadata": {},
   "outputs": [
    {
     "data": {
      "application/vnd.jupyter.widget-view+json": {
       "model_id": "4560bf1112874376b32f46b6e6f087ee",
       "version_major": 2,
       "version_minor": 0
      },
      "text/plain": [
       "Downloading readme:   0%|          | 0.00/1.76k [00:00<?, ?B/s]"
      ]
     },
     "metadata": {},
     "output_type": "display_data"
    },
    {
     "data": {
      "application/vnd.jupyter.widget-view+json": {
       "model_id": "15bc899f0b2344eeab5a02500c46f6b8",
       "version_major": 2,
       "version_minor": 0
      },
      "text/plain": [
       "Downloading data:   0%|          | 0.00/1.12M [00:00<?, ?B/s]"
      ]
     },
     "metadata": {},
     "output_type": "display_data"
    },
    {
     "data": {
      "application/vnd.jupyter.widget-view+json": {
       "model_id": "20ed80e519f84098b469307a6763a977",
       "version_major": 2,
       "version_minor": 0
      },
      "text/plain": [
       "Downloading data:   0%|          | 0.00/187k [00:00<?, ?B/s]"
      ]
     },
     "metadata": {},
     "output_type": "display_data"
    },
    {
     "data": {
      "application/vnd.jupyter.widget-view+json": {
       "model_id": "5567fabc403843049bb833b426211181",
       "version_major": 2,
       "version_minor": 0
      },
      "text/plain": [
       "Generating train split:   0%|          | 0/4012 [00:00<?, ? examples/s]"
      ]
     },
     "metadata": {},
     "output_type": "display_data"
    },
    {
     "data": {
      "application/vnd.jupyter.widget-view+json": {
       "model_id": "57ef35dad7f342e382df63a016b38dce",
       "version_major": 2,
       "version_minor": 0
      },
      "text/plain": [
       "Generating test split:   0%|          | 0/707 [00:00<?, ? examples/s]"
      ]
     },
     "metadata": {},
     "output_type": "display_data"
    },
    {
     "data": {
      "application/vnd.jupyter.widget-view+json": {
       "model_id": "3d01d88d6302493d9981869bec10d098",
       "version_major": 2,
       "version_minor": 0
      },
      "text/plain": [
       "Downloading data:   0%|          | 0.00/35.3M [00:00<?, ?B/s]"
      ]
     },
     "metadata": {},
     "output_type": "display_data"
    },
    {
     "data": {
      "application/vnd.jupyter.widget-view+json": {
       "model_id": "d97b610e267b411eb3ab370b902cd38f",
       "version_major": 2,
       "version_minor": 0
      },
      "text/plain": [
       "Generating test split:   0%|          | 0/40181 [00:00<?, ? examples/s]"
      ]
     },
     "metadata": {},
     "output_type": "display_data"
    }
   ],
   "source": [
    "from datasets import load_dataset\n",
    "qap = load_dataset('enelpol/rag-mini-bioasq', 'question-answer-passages')\n",
    "corpus = load_dataset('enelpol/rag-mini-bioasq', 'text-corpus')"
   ]
  },
  {
   "cell_type": "code",
   "execution_count": 9,
   "metadata": {},
   "outputs": [
    {
     "data": {
      "application/vnd.jupyter.widget-view+json": {
       "model_id": "2460fb7ea36749a18ac33041065d8978",
       "version_major": 2,
       "version_minor": 0
      },
      "text/plain": [
       "Creating json from Arrow format:   0%|          | 0/5 [00:00<?, ?ba/s]"
      ]
     },
     "metadata": {},
     "output_type": "display_data"
    },
    {
     "data": {
      "text/plain": [
       "2102860"
      ]
     },
     "execution_count": 9,
     "metadata": {},
     "output_type": "execute_result"
    }
   ],
   "source": [
    "from datasets import concatenate_datasets\n",
    "q2 = qap['train'].rename_column('relevant_passage_ids','gold_titles')\n",
    "q3 = qap['test'].rename_column('relevant_passage_ids','gold_titles')\n",
    "q= concatenate_datasets([q2,q3])\n",
    "q.to_json('data/mini-bioasq_query.jsonl',orient='records',lines=True)"
   ]
  },
  {
   "cell_type": "code",
   "execution_count": 7,
   "metadata": {},
   "outputs": [
    {
     "data": {
      "application/vnd.jupyter.widget-view+json": {
       "model_id": "8a2d9cfaa6684c4d989b9fd40cdf198b",
       "version_major": 2,
       "version_minor": 0
      },
      "text/plain": [
       "Creating json from Arrow format:   0%|          | 0/41 [00:00<?, ?ba/s]"
      ]
     },
     "metadata": {},
     "output_type": "display_data"
    },
    {
     "data": {
      "text/plain": [
       "61976973"
      ]
     },
     "execution_count": 7,
     "metadata": {},
     "output_type": "execute_result"
    }
   ],
   "source": [
    "c2 = corpus['test'].rename_column('id','title')\n",
    "c2.to_json('data/mini-bioasq_t2p.jsonl', orient=\"records\", lines=True)"
   ]
  }
 ],
 "metadata": {
  "kernelspec": {
   "display_name": "torch_241",
   "language": "python",
   "name": "python3"
  },
  "language_info": {
   "codemirror_mode": {
    "name": "ipython",
    "version": 3
   },
   "file_extension": ".py",
   "mimetype": "text/x-python",
   "name": "python",
   "nbconvert_exporter": "python",
   "pygments_lexer": "ipython3",
   "version": "3.9.19"
  }
 },
 "nbformat": 4,
 "nbformat_minor": 2
}
