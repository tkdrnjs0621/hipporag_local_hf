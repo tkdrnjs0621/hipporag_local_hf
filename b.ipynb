{
 "cells": [
  {
   "cell_type": "code",
   "execution_count": 2,
   "metadata": {},
   "outputs": [
    {
     "name": "stderr",
     "output_type": "stream",
     "text": [
      "/home/tkdrnjs0621/miniconda3/envs/torch_241/lib/python3.9/site-packages/transformers/tokenization_utils_base.py:1601: FutureWarning: `clean_up_tokenization_spaces` was not set. It will be set to `True` by default. This behavior will be depracted in transformers v4.45, and will be then set to `False` by default. For more details check this issue: https://github.com/huggingface/transformers/issues/31884\n",
      "  warnings.warn(\n",
      "/tmp/ipykernel_1535984/2326290375.py:61: FutureWarning: You are using `torch.load` with `weights_only=False` (the current default value), which uses the default pickle module implicitly. It is possible to construct malicious pickle data which will execute arbitrary code during unpickling (See https://github.com/pytorch/pytorch/blob/main/SECURITY.md#untrusted-models for more details). In a future release, the default value for `weights_only` will be flipped to `True`. This limits the functions that could be executed during unpickling. Arbitrary objects will no longer be allowed to be loaded via this mode unless they are explicitly allowlisted by the user via `torch.serialization.add_safe_globals`. We recommend you start setting `weights_only=True` for any use case where you don't have full control of the loaded file. Please open an issue on GitHub for any issues related to this experimental feature.\n",
      "  vec_passages=torch.load(vector)\n"
     ]
    },
    {
     "data": {
      "application/vnd.jupyter.widget-view+json": {
       "model_id": "bca3a0ed906642a3a97c6e235d8a21c8",
       "version_major": 2,
       "version_minor": 0
      },
      "text/plain": [
       "Map:   0%|          | 0/2417 [00:00<?, ? examples/s]"
      ]
     },
     "metadata": {},
     "output_type": "display_data"
    },
    {
     "data": {
      "application/vnd.jupyter.widget-view+json": {
       "model_id": "da6a83c76ce745bdb9e8fa28410b2c8f",
       "version_major": 2,
       "version_minor": 0
      },
      "text/plain": [
       "Creating json from Arrow format:   0%|          | 0/3 [00:00<?, ?ba/s]"
      ]
     },
     "metadata": {},
     "output_type": "display_data"
    },
    {
     "data": {
      "text/plain": [
       "549818770"
      ]
     },
     "execution_count": 2,
     "metadata": {},
     "output_type": "execute_result"
    }
   ],
   "source": [
    "\n",
    "import transformers\n",
    "\n",
    "from transformers import AutoModelForCausalLM, AutoTokenizer, AutoModel\n",
    "import torch\n",
    "import argparse\n",
    "import re\n",
    "from functools import partial\n",
    "import logging\n",
    "from datasets import load_dataset, Dataset\n",
    "from tqdm import tqdm\n",
    "import os\n",
    "from torch.utils.data import DataLoader\n",
    "import json\n",
    "import copy\n",
    "\n",
    "import pandas as pd\n",
    "\n",
    "os.environ['CUDA_VISIBLE_DEVICES']='3'\n",
    "t2p='data/musique_dev_t2p.jsonl'\n",
    "vector='data/musique.pt'\n",
    "query='data/musique_dev_query_full.jsonl'\n",
    "result='data/musique_dev_query_full_scored.jsonl'\n",
    "\n",
    "def mean_pooling(token_embeddings, mask):\n",
    "    token_embeddings = token_embeddings.masked_fill(~mask[..., None].bool(), 0.)\n",
    "    sentence_embeddings = token_embeddings.sum(dim=1) / mask.sum(dim=1)[..., None]\n",
    "    return sentence_embeddings\n",
    "\n",
    "def encode_batch(data, tokenizer, model, batch_size=128):\n",
    "    embeddings = []\n",
    "    with torch.no_grad():\n",
    "        for i in tqdm(range(0, len(data), batch_size)):\n",
    "            batch = data[i:i + batch_size]\n",
    "            inputs = tokenizer(batch, return_tensors=\"pt\", padding=True, truncation=True).to('cuda')\n",
    "            outputs = model(**inputs)\n",
    "            batch_embeddings = mean_pooling(outputs.last_hidden_state, inputs['attention_mask'])\n",
    "            embeddings.append(batch_embeddings.cpu())\n",
    "    return torch.cat(embeddings, dim=0)\n",
    "\n",
    "encoder_model = 'facebook/contriever'\n",
    "\n",
    "def get_similarities(search_space, query, model, tokenizer):\n",
    "    with torch.no_grad():\n",
    "        query_inputs = tokenizer(query, return_tensors=\"pt\", padding=True, truncation=True).to('cuda')\n",
    "        query_embedding = mean_pooling(model(**query_inputs).last_hidden_state,query_inputs['attention_mask']).cpu()  # Move to CPU\n",
    "        query_embedding = query_embedding / query_embedding.norm(dim=1, keepdim=True)\n",
    "        search_space = search_space / search_space.norm(dim=1, keepdim=True)\n",
    "        similarities = torch.matmul(search_space, query_embedding.T).squeeze()\n",
    "        return similarities\n",
    "    \n",
    "\n",
    "def map_nearest(row,space,model,tokenizer):\n",
    "    l = get_similarities(space,row['question'],model,tokenizer)\n",
    "    row[\"score\"] = l\n",
    "    return row\n",
    "\n",
    "tokenizer = AutoTokenizer.from_pretrained(encoder_model)\n",
    "model = AutoModel.from_pretrained(encoder_model).to('cuda')\n",
    "\n",
    "if os.path.exists(vector):\n",
    "    vec_passages=torch.load(vector)\n",
    "else:\n",
    "    with open(t2p, 'r', encoding='utf-8') as file:\n",
    "        data = [json.loads(line)['passage'] for line in file]\n",
    "    vec_passages = encode_batch(data, tokenizer, model)\n",
    "    torch.save(vec_passages, vector)\n",
    "\n",
    "dataset = load_dataset('json', data_files=query)[\"train\"]\n",
    "dataset = dataset.map(partial(map_nearest,space=vec_passages,model=model,tokenizer=tokenizer,))\n",
    "dataset.to_json(result, orient=\"records\", lines=True)"
   ]
  }
 ],
 "metadata": {
  "kernelspec": {
   "display_name": "torch_241",
   "language": "python",
   "name": "python3"
  },
  "language_info": {
   "codemirror_mode": {
    "name": "ipython",
    "version": 3
   },
   "file_extension": ".py",
   "mimetype": "text/x-python",
   "name": "python",
   "nbconvert_exporter": "python",
   "pygments_lexer": "ipython3",
   "version": "3.9.19"
  }
 },
 "nbformat": 4,
 "nbformat_minor": 2
}
